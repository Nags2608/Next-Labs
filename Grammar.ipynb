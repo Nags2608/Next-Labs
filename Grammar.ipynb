{
 "cells": [
  {
   "cell_type": "code",
   "execution_count": null,
   "id": "13f35e0e",
   "metadata": {},
   "outputs": [],
   "source": [
    "# reading csv file\n",
    "text = open(\"/Users/nags26/Desktop/Next Labs/Data/review_data.csv\")\n",
    "\n",
    "# joining with space content of text\n",
    "text = ' '.join([i for i in text])\n",
    "\n",
    "# replacing ',' by space\n",
    "text = text.replace(\",\", \" \")\n",
    "\n",
    "#displaying result\n",
    "print(text)\n",
    "\n",
    "\n",
    "from textblob import TextBlob\n",
    "\n",
    "\n",
    "\n",
    "Corrected_words = [(\"text\")]\n",
    "\n",
    "for i in text:\n",
    "    Corrected_words.append(TextBlob(i))\n",
    "print(\"Wrong text :\", text)\n",
    "print(\"Corrected words are :\",text)\n"
   ]
  }
 ],
 "metadata": {
  "kernelspec": {
   "display_name": "Python 3 (ipykernel)",
   "language": "python",
   "name": "python3"
  },
  "language_info": {
   "codemirror_mode": {
    "name": "ipython",
    "version": 3
   },
   "file_extension": ".py",
   "mimetype": "text/x-python",
   "name": "python",
   "nbconvert_exporter": "python",
   "pygments_lexer": "ipython3",
   "version": "3.9.7"
  }
 },
 "nbformat": 4,
 "nbformat_minor": 5
}
